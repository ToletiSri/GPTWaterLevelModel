{
 "cells": [
  {
   "cell_type": "markdown",
   "id": "5c83a14d",
   "metadata": {},
   "source": [
    "# Carnival Demo"
   ]
  },
  {
   "cell_type": "code",
   "execution_count": 2,
   "id": "630acc2b",
   "metadata": {},
   "outputs": [
    {
     "name": "stdout",
     "output_type": "stream",
     "text": [
      "['CR', 'EIGHTBITS', 'FIVEBITS', 'LF', 'PARITY_EVEN', 'PARITY_MARK', 'PARITY_NAMES', 'PARITY_NONE', 'PARITY_ODD', 'PARITY_SPACE', 'PortNotOpenError', 'SEVENBITS', 'SIXBITS', 'STOPBITS_ONE', 'STOPBITS_ONE_POINT_FIVE', 'STOPBITS_TWO', 'Serial', 'SerialBase', 'SerialException', 'SerialTimeoutException', 'Timeout', 'VERSION', 'XOFF', 'XON', '__builtins__', '__cached__', '__doc__', '__file__', '__loader__', '__name__', '__package__', '__path__', '__spec__', '__version__', 'absolute_import', 'basestring', 'importlib', 'io', 'iterbytes', 'os', 'protocol_handler_packages', 'serial_for_url', 'serialutil', 'serialwin32', 'sys', 'time', 'to_bytes', 'unicode', 'win32']\n"
     ]
    }
   ],
   "source": [
    "import serial"
   ]
  },
  {
   "cell_type": "code",
   "execution_count": null,
   "id": "6501ea91",
   "metadata": {},
   "outputs": [],
   "source": [
    "# Maintain a map of distance co-ordinate from sensor to GPS value"
   ]
  },
  {
   "cell_type": "code",
   "execution_count": 60,
   "id": "b19e1563",
   "metadata": {},
   "outputs": [],
   "source": [
    "def read_data(ser, buf='', callback=None):\n",
    "    if callback is None:\n",
    "        callback = print\n",
    "\n",
    "    # # Read enough data for a message\n",
    "    # buf += ser.read(ser.in_waiting) # If you are using threading +10 or something so the thread has to wait for more data, this makes the thread sleep and allows the main thread to run.\n",
    "    # while \"[\" not in buf or \"]\" not in buf:\n",
    "    #     buf += ser.read(ser.in_waiting)\n",
    "\n",
    "    # # There may be multiple messages received\n",
    "    # while \"[\" in buf and ']' in buf:\n",
    "    #     # Find the message\n",
    "    #     start = buf.find('[')\n",
    "    #     buf = buf[start+1:]\n",
    "    #     end = buf.find(b']')\n",
    "    #     msg_parts = buf[:end].split(\";\") # buf now has b\"Hello, 1234\"\n",
    "    #     buf = buf[end+1:]\n",
    "\n",
    "    #     # Check the checksum to make sure the data is valid\n",
    "    #     print(msg_parts)\n",
    "    if ser.in_waiting > 0:\n",
    "        raw_data = ser.readline().strip()\n",
    "        raw_data.decode('latin1')\n",
    "        #buf = ser.readline().decode('utf-8').rstrip()\n",
    "        buf = str(raw_data).rstrip(\"\\n\")\n",
    "        #print(buf)\n",
    "        start = buf.find('[')\n",
    "        #print(start)\n",
    "        buf = buf[start+1:]\n",
    "        end = buf.find(']')\n",
    "        #print(end)\n",
    "        msg_parts = buf[:end].split(\";\") # buf now has b\"Hello, 1234\"\n",
    "        print(msg_parts)\n",
    "        #return buf\n",
    "\n"
   ]
  },
  {
   "cell_type": "code",
   "execution_count": 63,
   "id": "0f42a5fe",
   "metadata": {},
   "outputs": [],
   "source": [
    "ser.close() "
   ]
  },
  {
   "cell_type": "code",
   "execution_count": 62,
   "id": "44fa72b5",
   "metadata": {},
   "outputs": [
    {
     "name": "stdout",
     "output_type": "stream",
     "text": [
      "2\n",
      "9\n",
      "4.05\n",
      "0.00\n",
      "2\n",
      "10\n",
      "4.05\n",
      "41.42\n",
      "2\n",
      "10\n",
      "4.05\n",
      "41.54\n",
      "2\n",
      "10\n",
      "4.05\n",
      "41.52\n",
      "2\n",
      "10\n",
      "4.05\n",
      "41.42\n",
      "2\n",
      "10\n",
      "3.93\n",
      "41.54\n",
      "2\n",
      "10\n",
      "4.05\n",
      "41.42\n",
      "2\n",
      "10\n",
      "4.05\n",
      "41.52\n",
      "2\n",
      "10\n",
      "4.05\n",
      "41.54\n",
      "2\n",
      "10\n",
      "4.05\n",
      "41.42\n",
      "2\n",
      "10\n",
      "3.93\n",
      "41.52\n",
      "2\n",
      "10\n",
      "4.05\n",
      "41.42\n",
      "2\n",
      "10\n",
      "4.05\n",
      "41.54\n",
      "2\n",
      "10\n",
      "4.03\n",
      "41.52\n",
      "2\n",
      "10\n",
      "4.03\n",
      "41.88\n",
      "2\n",
      "10\n",
      "3.94\n",
      "41.52\n",
      "2\n",
      "10\n",
      "4.05\n",
      "41.43\n",
      "2\n",
      "10\n",
      "4.05\n",
      "41.52\n",
      "2\n",
      "10\n",
      "4.03\n",
      "41.98\n",
      "2\n",
      "10\n",
      "4.05\n",
      "41.88\n",
      "2\n",
      "10\n",
      "3.93\n",
      "41.52\n",
      "2\n",
      "10\n",
      "4.05\n",
      "41.42\n",
      "2\n",
      "10\n",
      "4.05\n",
      "41.52\n",
      "2\n",
      "10\n",
      "4.05\n",
      "41.52\n",
      "2\n",
      "10\n",
      "4.05\n",
      "41.88\n",
      "2\n",
      "10\n",
      "3.93\n",
      "41.52\n",
      "2\n",
      "10\n",
      "4.05\n",
      "41.86\n",
      "2\n",
      "10\n",
      "4.05\n",
      "41.98\n",
      "2\n",
      "10\n",
      "4.05\n",
      "41.52\n",
      "2\n",
      "10\n",
      "4.03\n",
      "41.42\n",
      "2\n",
      "10\n",
      "3.94\n",
      "41.52\n",
      "2\n",
      "10\n",
      "4.05\n",
      "41.42\n",
      "2\n",
      "10\n",
      "4.05\n",
      "41.52\n"
     ]
    },
    {
     "ename": "KeyboardInterrupt",
     "evalue": "",
     "output_type": "error",
     "traceback": [
      "\u001b[1;31m---------------------------------------------------------------------------\u001b[0m",
      "\u001b[1;31mKeyboardInterrupt\u001b[0m                         Traceback (most recent call last)",
      "Cell \u001b[1;32mIn[62], line 5\u001b[0m\n\u001b[0;32m      3\u001b[0m buf \u001b[38;5;241m=\u001b[39m \u001b[38;5;124m'\u001b[39m\u001b[38;5;124m'\u001b[39m\n\u001b[0;32m      4\u001b[0m \u001b[38;5;28;01mwhile\u001b[39;00m running:\n\u001b[1;32m----> 5\u001b[0m     buf \u001b[38;5;241m=\u001b[39m \u001b[43mread_data\u001b[49m\u001b[43m(\u001b[49m\u001b[43mser\u001b[49m\u001b[43m,\u001b[49m\u001b[43m \u001b[49m\u001b[43mbuf\u001b[49m\u001b[43m)\u001b[49m\n",
      "Cell \u001b[1;32mIn[60], line 21\u001b[0m, in \u001b[0;36mread_data\u001b[1;34m(ser, buf, callback)\u001b[0m\n\u001b[0;32m      3\u001b[0m     callback \u001b[38;5;241m=\u001b[39m \u001b[38;5;28mprint\u001b[39m\n\u001b[0;32m      5\u001b[0m \u001b[38;5;66;03m# # Read enough data for a message\u001b[39;00m\n\u001b[0;32m      6\u001b[0m \u001b[38;5;66;03m# buf += ser.read(ser.in_waiting) # If you are using threading +10 or something so the thread has to wait for more data, this makes the thread sleep and allows the main thread to run.\u001b[39;00m\n\u001b[0;32m      7\u001b[0m \u001b[38;5;66;03m# while \"[\" not in buf or \"]\" not in buf:\u001b[39;00m\n\u001b[1;32m   (...)\u001b[0m\n\u001b[0;32m     19\u001b[0m \u001b[38;5;66;03m#     # Check the checksum to make sure the data is valid\u001b[39;00m\n\u001b[0;32m     20\u001b[0m \u001b[38;5;66;03m#     print(msg_parts)\u001b[39;00m\n\u001b[1;32m---> 21\u001b[0m \u001b[38;5;28;01mif\u001b[39;00m \u001b[43mser\u001b[49m\u001b[38;5;241;43m.\u001b[39;49m\u001b[43min_waiting\u001b[49m \u001b[38;5;241m>\u001b[39m \u001b[38;5;241m0\u001b[39m:\n\u001b[0;32m     22\u001b[0m     raw_data \u001b[38;5;241m=\u001b[39m ser\u001b[38;5;241m.\u001b[39mreadline()\u001b[38;5;241m.\u001b[39mstrip()\n\u001b[0;32m     23\u001b[0m     raw_data\u001b[38;5;241m.\u001b[39mdecode(\u001b[38;5;124m'\u001b[39m\u001b[38;5;124mlatin1\u001b[39m\u001b[38;5;124m'\u001b[39m)\n",
      "File \u001b[1;32mc:\\Users\\srtoleti\\AppData\\Local\\Programs\\Python\\Python311\\Lib\\site-packages\\serial\\serialwin32.py:258\u001b[0m, in \u001b[0;36mSerial.in_waiting\u001b[1;34m(self)\u001b[0m\n\u001b[0;32m    256\u001b[0m flags \u001b[38;5;241m=\u001b[39m win32\u001b[38;5;241m.\u001b[39mDWORD()\n\u001b[0;32m    257\u001b[0m comstat \u001b[38;5;241m=\u001b[39m win32\u001b[38;5;241m.\u001b[39mCOMSTAT()\n\u001b[1;32m--> 258\u001b[0m \u001b[38;5;28;01mif\u001b[39;00m \u001b[38;5;129;01mnot\u001b[39;00m \u001b[43mwin32\u001b[49m\u001b[38;5;241;43m.\u001b[39;49m\u001b[43mClearCommError\u001b[49m\u001b[43m(\u001b[49m\u001b[38;5;28;43mself\u001b[39;49m\u001b[38;5;241;43m.\u001b[39;49m\u001b[43m_port_handle\u001b[49m\u001b[43m,\u001b[49m\u001b[43m \u001b[49m\u001b[43mctypes\u001b[49m\u001b[38;5;241;43m.\u001b[39;49m\u001b[43mbyref\u001b[49m\u001b[43m(\u001b[49m\u001b[43mflags\u001b[49m\u001b[43m)\u001b[49m\u001b[43m,\u001b[49m\u001b[43m \u001b[49m\u001b[43mctypes\u001b[49m\u001b[38;5;241;43m.\u001b[39;49m\u001b[43mbyref\u001b[49m\u001b[43m(\u001b[49m\u001b[43mcomstat\u001b[49m\u001b[43m)\u001b[49m\u001b[43m)\u001b[49m:\n\u001b[0;32m    259\u001b[0m     \u001b[38;5;28;01mraise\u001b[39;00m SerialException(\u001b[38;5;124m\"\u001b[39m\u001b[38;5;124mClearCommError failed (\u001b[39m\u001b[38;5;132;01m{!r}\u001b[39;00m\u001b[38;5;124m)\u001b[39m\u001b[38;5;124m\"\u001b[39m\u001b[38;5;241m.\u001b[39mformat(ctypes\u001b[38;5;241m.\u001b[39mWinError()))\n\u001b[0;32m    260\u001b[0m \u001b[38;5;28;01mreturn\u001b[39;00m comstat\u001b[38;5;241m.\u001b[39mcbInQue\n",
      "\u001b[1;31mKeyboardInterrupt\u001b[0m: "
     ]
    }
   ],
   "source": [
    "running = True\n",
    "ser = serial.Serial(\"COM7\", 9600)\n",
    "buf = ''\n",
    "while running:\n",
    "    buf = read_data(ser, buf)"
   ]
  },
  {
   "cell_type": "code",
   "execution_count": 55,
   "id": "f40b6a50",
   "metadata": {},
   "outputs": [],
   "source": [
    "ser.close() "
   ]
  },
  {
   "cell_type": "code",
   "execution_count": null,
   "id": "905e8fd7",
   "metadata": {},
   "outputs": [],
   "source": []
  },
  {
   "cell_type": "code",
   "execution_count": 16,
   "id": "bdd9618f",
   "metadata": {},
   "outputs": [
    {
     "name": "stdout",
     "output_type": "stream",
     "text": [
      "3.5\n"
     ]
    }
   ],
   "source": [
    "print(serial.__version__)"
   ]
  },
  {
   "cell_type": "code",
   "execution_count": 17,
   "id": "b0e48fad",
   "metadata": {},
   "outputs": [
    {
     "name": "stdout",
     "output_type": "stream",
     "text": [
      "12089\n"
     ]
    }
   ],
   "source": [
    "print(ser.in_waiting)"
   ]
  }
 ],
 "metadata": {
  "kernelspec": {
   "display_name": "Python 3 (ipykernel)",
   "language": "python",
   "name": "python3"
  },
  "language_info": {
   "codemirror_mode": {
    "name": "ipython",
    "version": 3
   },
   "file_extension": ".py",
   "mimetype": "text/x-python",
   "name": "python",
   "nbconvert_exporter": "python",
   "pygments_lexer": "ipython3",
   "version": "3.11.8"
  }
 },
 "nbformat": 4,
 "nbformat_minor": 5
}
