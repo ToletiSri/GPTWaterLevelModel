{
 "cells": [
  {
   "cell_type": "markdown",
   "id": "5c83a14d",
   "metadata": {},
   "source": [
    "# Carnival Demo"
   ]
  },
  {
   "cell_type": "code",
   "execution_count": null,
   "id": "630acc2b",
   "metadata": {},
   "outputs": [],
   "source": [
    "import serial\n",
    "from LatLongMap import latitude_values, longitude_values\n",
    "from gpt import GPTWaterLevelModel\n",
    "import torch"
   ]
  },
  {
   "cell_type": "code",
   "execution_count": null,
   "id": "a1d93ff1",
   "metadata": {},
   "outputs": [],
   "source": [
    "device = 'cpu'"
   ]
  },
  {
   "cell_type": "code",
   "execution_count": null,
   "id": "706b8908",
   "metadata": {},
   "outputs": [],
   "source": [
    "def getIndexForXposition(x, start_value = 44.25, end_value = 8.00, step = 0.01, num_indices = 275):\n",
    "    normalised_position = (start_value - x)/(start_value - end_value)\n",
    "    index = normalised_position * (num_indices - 1)\n",
    "    index = abs(int(index))\n",
    "    return index"
   ]
  },
  {
   "cell_type": "code",
   "execution_count": null,
   "id": "9326ee8b",
   "metadata": {},
   "outputs": [],
   "source": [
    "def createDataForModel(tensor, stack_vector):\n",
    "    # If stack_vector is initially of size [1, 0, 0], initialize it with the new tensors\n",
    "    if stack_vector.size() == torch.Size([1, 0, 0]):\n",
    "        stack_vector = torch.stack(tensor).unsqueeze(0).unsqueeze(0)\n",
    "    else:\n",
    "        # Otherwise, concatenate the new tensors along the second dimension\n",
    "        new_tensor = torch.stack(tensor).unsqueeze(0).unsqueeze(0)\n",
    "        stack_vector = torch.cat((stack_vector, new_tensor), dim=1)    \n",
    "    return stack_vector"
   ]
  },
  {
   "cell_type": "code",
   "execution_count": null,
   "id": "8329f5d1",
   "metadata": {},
   "outputs": [],
   "source": [
    "def getNextCoordinates(stack_vector, count=4):\n",
    "    nextLatLong = torch.empty((count, 0))\n",
    "    #Get the lat and long from the last element of the vector\n",
    "    last_entry_lat_long = stack_vector[0, -1, 1:]\n",
    "    #Find the index of current latitude\n",
    "    index = torch.where(latitude_values == last_entry_lat_long[0])[0]\n",
    "    for i in range(count):\n",
    "        index = index+1\n",
    "        tensor = torch.tensor(latitude_values[index], longitude_values[index], dtype='float16')\n",
    "        if nextLatLong is torch.empty((count,0)):\n",
    "            nextLatLong = torch.stack(tensor)\n",
    "        else:\n",
    "            nextLatLong = torch.cat((nextLatLong, tensor),dim = 0)\n",
    "    return nextLatLong   "
   ]
  },
  {
   "cell_type": "code",
   "execution_count": null,
   "id": "e1203107",
   "metadata": {},
   "outputs": [],
   "source": [
    "def getWaterLevelPredictions(CurrentWaterLevels, model):\n",
    "    next_coordinates = getNextCoordinates(CurrentWaterLevels)\n",
    "    predicted_water_levels = model.generate(CurrentWaterLevels, 4, next_coordinates) \n",
    "    print(f'Current 8(upto) water levels = {[round(value, 4) for value in CurrentWaterLevels[:,:,-1].tolist()[0]]}' )\n",
    "    print(f'Predicted next 4 water levels = {[round(value,4) for value in predicted_water_levels[:,8:,-1].tolist()[0]]}' )\n",
    "    pass"
   ]
  },
  {
   "cell_type": "code",
   "execution_count": null,
   "id": "b19e1563",
   "metadata": {},
   "outputs": [],
   "source": [
    "def read_data(ser):    \n",
    "    if ser.in_waiting > 0:\n",
    "        raw_data = ser.readline().strip()\n",
    "        raw_data.decode('latin1')\n",
    "        #buf = ser.readline().decode('utf-8').rstrip()\n",
    "        buf = str(raw_data).rstrip(\"\\n\")\n",
    "        #print(buf)\n",
    "        start = buf.find('[')\n",
    "        #print(start)\n",
    "        buf = buf[start+1:]\n",
    "        end = buf.find(']')\n",
    "        #print(end)\n",
    "        msg_parts = buf[:end].split(\";\") # buf now has depth, x-axis\n",
    "        curWaterDepth = msg_parts[0]\n",
    "        index = getIndexForXposition(msg_parts[1])\n",
    "        lat = latitude_values[index]\n",
    "        long = longitude_values[index]\n",
    "        tensor = torch.tensor([curWaterDepth, lat, long], dtype=torch.float32, device=device)      \n",
    "        return tensor\n",
    "\n"
   ]
  },
  {
   "cell_type": "code",
   "execution_count": null,
   "id": "e4804e19",
   "metadata": {},
   "outputs": [],
   "source": [
    "len(latitude_values), len(longitude_values)"
   ]
  },
  {
   "cell_type": "code",
   "execution_count": null,
   "id": "0f42a5fe",
   "metadata": {},
   "outputs": [],
   "source": [
    "ser.close() "
   ]
  },
  {
   "cell_type": "code",
   "execution_count": null,
   "id": "44fa72b5",
   "metadata": {},
   "outputs": [],
   "source": [
    "running = True\n",
    "ser = serial.Serial(\"COM7\", 9600)\n",
    "saved_model = GPTWaterLevelModel(800).to(device=device)\n",
    "saved_model.load_state_dict(torch.load('saved_model.pth'))\n",
    "LatLongDepthTensor = torch.empty((1, 0, 0))\n",
    "while running:\n",
    "    tensor = read_data(ser)\n",
    "    LatLongDepthTensor = createDataForModel(tensor, LatLongDepthTensor)\n",
    "    getWaterLevelPredictions(LatLongDepthTensor, saved_model)"
   ]
  },
  {
   "cell_type": "code",
   "execution_count": null,
   "id": "f40b6a50",
   "metadata": {},
   "outputs": [],
   "source": [
    "ser.close() "
   ]
  },
  {
   "cell_type": "code",
   "execution_count": null,
   "id": "905e8fd7",
   "metadata": {},
   "outputs": [],
   "source": []
  },
  {
   "cell_type": "code",
   "execution_count": null,
   "id": "bdd9618f",
   "metadata": {},
   "outputs": [],
   "source": [
    "print(serial.__version__)"
   ]
  },
  {
   "cell_type": "code",
   "execution_count": null,
   "id": "b0e48fad",
   "metadata": {},
   "outputs": [],
   "source": [
    "print(ser.in_waiting)"
   ]
  }
 ],
 "metadata": {
  "kernelspec": {
   "display_name": "Python 3 (ipykernel)",
   "language": "python",
   "name": "python3"
  },
  "language_info": {
   "codemirror_mode": {
    "name": "ipython",
    "version": 3
   },
   "file_extension": ".py",
   "mimetype": "text/x-python",
   "name": "python",
   "nbconvert_exporter": "python",
   "pygments_lexer": "ipython3",
   "version": "3.11.3"
  }
 },
 "nbformat": 4,
 "nbformat_minor": 5
}
